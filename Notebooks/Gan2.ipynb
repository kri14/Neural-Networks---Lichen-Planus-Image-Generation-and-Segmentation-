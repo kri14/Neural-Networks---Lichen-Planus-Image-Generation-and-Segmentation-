{
  "cells": [
    {
      "cell_type": "code",
      "execution_count": null,
      "metadata": {
        "id": "8GACufcSW_b7"
      },
      "outputs": [],
      "source": [
        "from google.colab import drive\n",
        "drive.mount('/content/drive')"
      ]
    },
    {
      "cell_type": "code",
      "execution_count": null,
      "metadata": {
        "id": "GZ_FRk5YfVYl"
      },
      "outputs": [],
      "source": [
        "import matplotlib.pyplot as plt\n",
        "import numpy as np\n",
        "import torch\n",
        "\n",
        "import torch.nn as nn\n",
        " \n",
        "from torch.utils.data import Dataset, DataLoader\n",
        "import torch.optim as optim\n",
        "from torch.nn import Module, Sequential, Conv2d, ConvTranspose2d, LeakyReLU, BatchNorm2d, ReLU, Tanh, Sigmoid, BCELoss \n",
        " \n",
        "%matplotlib inline"
      ]
    },
    {
      "cell_type": "code",
      "execution_count": null,
      "metadata": {
        "id": "G_keVgM-fo3o"
      },
      "outputs": [],
      "source": [
        "\n",
        "\n",
        "# Imports PIL module\n",
        "from PIL import Image\n",
        "import os\n"
      ]
    },
    {
      "cell_type": "code",
      "execution_count": null,
      "metadata": {
        "id": "sTL50HcrX6WY"
      },
      "outputs": [],
      "source": [
        "!unzip lp.zip\n"
      ]
    },
    {
      "cell_type": "code",
      "execution_count": null,
      "metadata": {
        "colab": {
          "background_save": true
        },
        "id": "8JD4zwY-V0oF"
      },
      "outputs": [],
      "source": [
        "# path to the image directory\n",
        "#dir_data  = '/content/drive/MyDrive/Lichen Planus Dataset/A lichen planus'\n",
        " \n",
        "# setting image shape to 32x32\n",
        "img_shape = (32,32, 3)\n",
        " \n",
        "# listing out all file names\n",
        "nm_imgs   = np.sort(os.listdir(dir_data))"
      ]
    },
    {
      "cell_type": "code",
      "execution_count": null,
      "metadata": {
        "id": "HTRj7DyfV_A7"
      },
      "outputs": [],
      "source": [
        "X_train = []\n",
        "for file in nm_imgs:\n",
        "        img = Image.open(dir_data+'/'+file)\n",
        "        img = img.convert('RGB')\n",
        "        img = img.resize((128,128))\n",
        "        img = np.asarray(img)/255\n",
        "        X_train.append(img)\n",
        " \n",
        "X_train = np.array(X_train)"
      ]
    },
    {
      "cell_type": "code",
      "execution_count": null,
      "metadata": {
        "colab": {
          "background_save": true
        },
        "id": "ZYzqME2eWA--"
      },
      "outputs": [],
      "source": [
        "from numpy import asarray\n",
        "from numpy import savez_compressed\n",
        " \n",
        "# save to npy file\n",
        "savez_compressed('kaggle_images_32x32.npz', X_train)"
      ]
    },
    {
      "cell_type": "code",
      "execution_count": null,
      "metadata": {
        "colab": {
          "background_save": true
        },
        "id": "dJPNvAtVWDgH",
        "outputId": "355fe53d-9fe3-4a6d-aaa6-f1d2635e3d27"
      },
      "outputs": [
        {
          "name": "stdout",
          "output_type": "stream",
          "text": [
            "[[[[0.4        0.21568627 0.1254902 ]\n",
            "   [0.40392157 0.21568627 0.12941176]\n",
            "   [0.38039216 0.18431373 0.08627451]\n",
            "   ...\n",
            "   [0.59215686 0.41176471 0.29019608]\n",
            "   [0.58823529 0.40784314 0.26666667]\n",
            "   [0.57647059 0.39215686 0.25098039]]\n",
            "\n",
            "  [[0.40392157 0.21568627 0.11764706]\n",
            "   [0.40784314 0.20784314 0.11372549]\n",
            "   [0.37647059 0.16862745 0.0745098 ]\n",
            "   ...\n",
            "   [0.59215686 0.39607843 0.30196078]\n",
            "   [0.62352941 0.43529412 0.32156863]\n",
            "   [0.57647059 0.38039216 0.27058824]]\n",
            "\n",
            "  [[0.4        0.19607843 0.09411765]\n",
            "   [0.40784314 0.20784314 0.10588235]\n",
            "   [0.4        0.18039216 0.07843137]\n",
            "   ...\n",
            "   [0.62745098 0.45490196 0.36470588]\n",
            "   [0.60784314 0.42352941 0.31764706]\n",
            "   [0.6        0.41960784 0.30980392]]\n",
            "\n",
            "  ...\n",
            "\n",
            "  [[0.3372549  0.16078431 0.05882353]\n",
            "   [0.34509804 0.16078431 0.07058824]\n",
            "   [0.34117647 0.14117647 0.0627451 ]\n",
            "   ...\n",
            "   [0.51372549 0.3254902  0.20392157]\n",
            "   [0.5254902  0.33333333 0.20784314]\n",
            "   [0.49803922 0.31372549 0.18039216]]\n",
            "\n",
            "  [[0.34117647 0.16862745 0.07843137]\n",
            "   [0.33333333 0.15294118 0.07058824]\n",
            "   [0.34509804 0.16078431 0.07058824]\n",
            "   ...\n",
            "   [0.50980392 0.3254902  0.21960784]\n",
            "   [0.51372549 0.3254902  0.21176471]\n",
            "   [0.5254902  0.35686275 0.22352941]]\n",
            "\n",
            "  [[0.3254902  0.15294118 0.07843137]\n",
            "   [0.33333333 0.14901961 0.08627451]\n",
            "   [0.33333333 0.15686275 0.07843137]\n",
            "   ...\n",
            "   [0.51764706 0.3254902  0.23529412]\n",
            "   [0.50196078 0.29803922 0.2       ]\n",
            "   [0.54901961 0.36862745 0.25490196]]]\n",
            "\n",
            "\n",
            " [[[0.4745098  0.35686275 0.25490196]\n",
            "   [0.47843137 0.36078431 0.25882353]\n",
            "   [0.4745098  0.35686275 0.25490196]\n",
            "   ...\n",
            "   [0.8745098  0.6        0.4627451 ]\n",
            "   [0.87058824 0.59607843 0.4627451 ]\n",
            "   [0.86666667 0.59215686 0.4627451 ]]\n",
            "\n",
            "  [[0.46666667 0.34901961 0.24705882]\n",
            "   [0.4745098  0.35686275 0.25490196]\n",
            "   [0.46666667 0.34901961 0.24705882]\n",
            "   ...\n",
            "   [0.87058824 0.59607843 0.45882353]\n",
            "   [0.8627451  0.58823529 0.45490196]\n",
            "   [0.8627451  0.58431373 0.45882353]]\n",
            "\n",
            "  [[0.49019608 0.37254902 0.27058824]\n",
            "   [0.49803922 0.38039216 0.27843137]\n",
            "   [0.48235294 0.36470588 0.2627451 ]\n",
            "   ...\n",
            "   [0.86666667 0.59215686 0.45490196]\n",
            "   [0.85882353 0.58431373 0.45098039]\n",
            "   [0.85490196 0.57647059 0.45098039]]\n",
            "\n",
            "  ...\n",
            "\n",
            "  [[0.78039216 0.57254902 0.37647059]\n",
            "   [0.76470588 0.55686275 0.36078431]\n",
            "   [0.74117647 0.53333333 0.3372549 ]\n",
            "   ...\n",
            "   [0.94509804 0.67843137 0.5254902 ]\n",
            "   [0.94509804 0.67843137 0.5254902 ]\n",
            "   [0.94901961 0.67843137 0.5254902 ]]\n",
            "\n",
            "  [[0.79215686 0.58431373 0.38823529]\n",
            "   [0.78039216 0.57254902 0.37647059]\n",
            "   [0.74117647 0.53333333 0.3372549 ]\n",
            "   ...\n",
            "   [0.95294118 0.68627451 0.53333333]\n",
            "   [0.95686275 0.68627451 0.53333333]\n",
            "   [0.95294118 0.68235294 0.52941176]]\n",
            "\n",
            "  [[0.78431373 0.57647059 0.38039216]\n",
            "   [0.77647059 0.56862745 0.37254902]\n",
            "   [0.74117647 0.53333333 0.3372549 ]\n",
            "   ...\n",
            "   [0.96078431 0.69411765 0.54117647]\n",
            "   [0.96470588 0.69411765 0.54117647]\n",
            "   [0.95686275 0.68627451 0.53333333]]]\n",
            "\n",
            "\n",
            " [[[0.8627451  0.77647059 0.62352941]\n",
            "   [0.8627451  0.77647059 0.62745098]\n",
            "   [0.86666667 0.78039216 0.63921569]\n",
            "   ...\n",
            "   [0.36862745 0.29803922 0.25098039]\n",
            "   [0.35294118 0.28235294 0.23529412]\n",
            "   [0.34901961 0.27058824 0.22745098]]\n",
            "\n",
            "  [[0.85882353 0.77254902 0.61960784]\n",
            "   [0.85490196 0.76862745 0.61568627]\n",
            "   [0.87058824 0.78431373 0.64313725]\n",
            "   ...\n",
            "   [0.36862745 0.29411765 0.24705882]\n",
            "   [0.35294118 0.27843137 0.23529412]\n",
            "   [0.34901961 0.27058824 0.22745098]]\n",
            "\n",
            "  [[0.86666667 0.78039216 0.62745098]\n",
            "   [0.8627451  0.77647059 0.62745098]\n",
            "   [0.8745098  0.78823529 0.64313725]\n",
            "   ...\n",
            "   [0.35686275 0.28235294 0.23529412]\n",
            "   [0.35294118 0.27843137 0.23137255]\n",
            "   [0.34901961 0.27058824 0.22745098]]\n",
            "\n",
            "  ...\n",
            "\n",
            "  [[0.72941176 0.68627451 0.67058824]\n",
            "   [0.72941176 0.68627451 0.67058824]\n",
            "   [0.72941176 0.68627451 0.67058824]\n",
            "   ...\n",
            "   [0.48235294 0.41176471 0.31764706]\n",
            "   [0.49803922 0.43137255 0.3372549 ]\n",
            "   [0.51372549 0.43529412 0.3372549 ]]\n",
            "\n",
            "  [[0.72941176 0.68627451 0.67058824]\n",
            "   [0.72941176 0.68627451 0.67058824]\n",
            "   [0.72941176 0.68627451 0.67058824]\n",
            "   ...\n",
            "   [0.49803922 0.42745098 0.33333333]\n",
            "   [0.50588235 0.43529412 0.34117647]\n",
            "   [0.50980392 0.43529412 0.34117647]]\n",
            "\n",
            "  [[0.72941176 0.68627451 0.67058824]\n",
            "   [0.72941176 0.68627451 0.67058824]\n",
            "   [0.72941176 0.68627451 0.67058824]\n",
            "   ...\n",
            "   [0.47843137 0.40784314 0.31372549]\n",
            "   [0.51372549 0.43921569 0.34509804]\n",
            "   [0.51764706 0.43921569 0.34509804]]]\n",
            "\n",
            "\n",
            " ...\n",
            "\n",
            "\n",
            " [[[0.57647059 0.36862745 0.17254902]\n",
            "   [0.57254902 0.36470588 0.16470588]\n",
            "   [0.57254902 0.36470588 0.16078431]\n",
            "   ...\n",
            "   [0.61960784 0.43529412 0.22745098]\n",
            "   [0.61568627 0.43137255 0.22745098]\n",
            "   [0.62745098 0.44313725 0.23921569]]\n",
            "\n",
            "  [[0.58431373 0.37647059 0.18039216]\n",
            "   [0.58039216 0.37254902 0.17254902]\n",
            "   [0.58039216 0.37254902 0.16862745]\n",
            "   ...\n",
            "   [0.61960784 0.43137255 0.22745098]\n",
            "   [0.62352941 0.43529412 0.23921569]\n",
            "   [0.63921569 0.45098039 0.25490196]]\n",
            "\n",
            "  [[0.58431373 0.37647059 0.18039216]\n",
            "   [0.58823529 0.38039216 0.18039216]\n",
            "   [0.58823529 0.38039216 0.17647059]\n",
            "   ...\n",
            "   [0.62352941 0.42745098 0.23529412]\n",
            "   [0.62352941 0.43529412 0.24313725]\n",
            "   [0.63921569 0.45098039 0.25882353]]\n",
            "\n",
            "  ...\n",
            "\n",
            "  [[0.61568627 0.41960784 0.23137255]\n",
            "   [0.59607843 0.39607843 0.21176471]\n",
            "   [0.57254902 0.37254902 0.18823529]\n",
            "   ...\n",
            "   [0.60784314 0.40392157 0.21960784]\n",
            "   [0.61176471 0.41176471 0.22745098]\n",
            "   [0.61568627 0.41176471 0.22745098]]\n",
            "\n",
            "  [[0.61568627 0.42745098 0.23921569]\n",
            "   [0.61568627 0.41960784 0.23529412]\n",
            "   [0.59607843 0.4        0.21568627]\n",
            "   ...\n",
            "   [0.6        0.39607843 0.21176471]\n",
            "   [0.6        0.39215686 0.20784314]\n",
            "   [0.58823529 0.38431373 0.2       ]]\n",
            "\n",
            "  [[0.60784314 0.41960784 0.23137255]\n",
            "   [0.60392157 0.41568627 0.22745098]\n",
            "   [0.58431373 0.39607843 0.20784314]\n",
            "   ...\n",
            "   [0.59215686 0.38039216 0.2       ]\n",
            "   [0.59215686 0.37647059 0.2       ]\n",
            "   [0.58039216 0.36862745 0.18431373]]]\n",
            "\n",
            "\n",
            " [[[0.32156863 0.21176471 0.16862745]\n",
            "   [0.3254902  0.20392157 0.16078431]\n",
            "   [0.35686275 0.21568627 0.16078431]\n",
            "   ...\n",
            "   [0.34901961 0.20392157 0.15294118]\n",
            "   [0.34901961 0.2        0.15294118]\n",
            "   [0.34509804 0.19215686 0.14901961]]\n",
            "\n",
            "  [[0.31764706 0.20784314 0.15294118]\n",
            "   [0.35686275 0.23137255 0.17647059]\n",
            "   [0.35294118 0.20784314 0.15294118]\n",
            "   ...\n",
            "   [0.35686275 0.21568627 0.16078431]\n",
            "   [0.36078431 0.21176471 0.16470588]\n",
            "   [0.35294118 0.20392157 0.16078431]]\n",
            "\n",
            "  [[0.34509804 0.22745098 0.15686275]\n",
            "   [0.36862745 0.23921569 0.17254902]\n",
            "   [0.38039216 0.23137255 0.18039216]\n",
            "   ...\n",
            "   [0.3372549  0.2        0.14509804]\n",
            "   [0.35686275 0.21568627 0.16078431]\n",
            "   [0.36470588 0.21568627 0.17254902]]\n",
            "\n",
            "  ...\n",
            "\n",
            "  [[0.42745098 0.29411765 0.21960784]\n",
            "   [0.43137255 0.29803922 0.22352941]\n",
            "   [0.43529412 0.30196078 0.23137255]\n",
            "   ...\n",
            "   [0.34117647 0.21960784 0.14901961]\n",
            "   [0.35294118 0.23137255 0.16078431]\n",
            "   [0.34901961 0.21960784 0.15686275]]\n",
            "\n",
            "  [[0.41176471 0.2745098  0.2       ]\n",
            "   [0.41176471 0.2745098  0.19215686]\n",
            "   [0.43529412 0.30196078 0.21568627]\n",
            "   ...\n",
            "   [0.36078431 0.23529412 0.15686275]\n",
            "   [0.32941176 0.20392157 0.1254902 ]\n",
            "   [0.32156863 0.19607843 0.12156863]]\n",
            "\n",
            "  [[0.40392157 0.26666667 0.18823529]\n",
            "   [0.39607843 0.25882353 0.17254902]\n",
            "   [0.41176471 0.27843137 0.18823529]\n",
            "   ...\n",
            "   [0.34901961 0.22352941 0.1372549 ]\n",
            "   [0.32156863 0.19607843 0.11372549]\n",
            "   [0.30196078 0.18039216 0.09803922]]]\n",
            "\n",
            "\n",
            " [[[0.84705882 0.58823529 0.48627451]\n",
            "   [0.85490196 0.56862745 0.45490196]\n",
            "   [0.88627451 0.56470588 0.42352941]\n",
            "   ...\n",
            "   [0.63529412 0.36862745 0.23137255]\n",
            "   [0.64313725 0.38431373 0.24705882]\n",
            "   [0.61960784 0.36862745 0.23137255]]\n",
            "\n",
            "  [[0.90196078 0.62745098 0.51372549]\n",
            "   [0.93333333 0.62745098 0.50588235]\n",
            "   [0.9372549  0.6        0.45882353]\n",
            "   ...\n",
            "   [0.54117647 0.2745098  0.1372549 ]\n",
            "   [0.58431373 0.31764706 0.18039216]\n",
            "   [0.6        0.3372549  0.20392157]]\n",
            "\n",
            "  [[0.88235294 0.59215686 0.46666667]\n",
            "   [0.94117647 0.62745098 0.48627451]\n",
            "   [0.92941176 0.58431373 0.42745098]\n",
            "   ...\n",
            "   [0.52156863 0.24705882 0.11372549]\n",
            "   [0.54901961 0.2745098  0.14117647]\n",
            "   [0.56470588 0.29411765 0.16078431]]\n",
            "\n",
            "  ...\n",
            "\n",
            "  [[0.92941176 0.68235294 0.54509804]\n",
            "   [0.91372549 0.6745098  0.5254902 ]\n",
            "   [0.88235294 0.6627451  0.49803922]\n",
            "   ...\n",
            "   [0.75294118 0.49411765 0.4       ]\n",
            "   [0.63921569 0.36862745 0.25490196]\n",
            "   [0.63137255 0.34509804 0.21568627]]\n",
            "\n",
            "  [[0.95294118 0.70980392 0.57254902]\n",
            "   [0.89411765 0.65882353 0.51372549]\n",
            "   [0.87058824 0.65490196 0.48627451]\n",
            "   ...\n",
            "   [0.82352941 0.56470588 0.4745098 ]\n",
            "   [0.74117647 0.4745098  0.36470588]\n",
            "   [0.70588235 0.42352941 0.29803922]]\n",
            "\n",
            "  [[0.94509804 0.70980392 0.57647059]\n",
            "   [0.88627451 0.65882353 0.51372549]\n",
            "   [0.87843137 0.65098039 0.49411765]\n",
            "   ...\n",
            "   [0.83529412 0.58431373 0.48627451]\n",
            "   [0.8        0.53333333 0.42352941]\n",
            "   [0.77647059 0.49411765 0.36862745]]]]\n"
          ]
        }
      ],
      "source": [
        "#load dict of arrays\n",
        "dict_data = np.load('kaggle_images_32x32.npz')\n",
        " \n",
        "# extract the first array\n",
        "data = dict_data['arr_0']\n",
        " \n",
        "# print the array\n",
        "print(data)"
      ]
    },
    {
      "cell_type": "code",
      "execution_count": null,
      "metadata": {
        "id": "KRLQbUQ2WMbU"
      },
      "outputs": [],
      "source": [
        "def tf_dataset(images_path, batch_size):\n",
        "    dataset = tf.data.Dataset.from_tensor_slices(images_path)\n",
        "    dataset = dataset.shuffle(buffer_size=10240)\n",
        "    dataset = dataset.map(load_image, num_parallel_calls=tf.data.experimental.AUTOTUNE)\n",
        "    dataset = dataset.batch(batch_size)\n",
        "    dataset = dataset.prefetch(buffer_size=tf.data.experimental.AUTOTUNE)\n",
        "    \n",
        "    return dataset"
      ]
    },
    {
      "cell_type": "code",
      "execution_count": null,
      "metadata": {
        "id": "8v7ka2gKg0PV"
      },
      "outputs": [],
      "source": [
        "# Always good to check if gpu support available or not\n",
        "dev = 'cuda:0' if torch.cuda.is_available() == True else 'cpu'\n",
        "device = torch.device(dev)"
      ]
    },
    {
      "cell_type": "code",
      "execution_count": null,
      "metadata": {
        "id": "Day_03qwWNAC"
      },
      "outputs": [],
      "source": [
        "# plot images in a nxn grid\n",
        " \n",
        "def plot_images(imgs, grid_size = 5):\n",
        "    \"\"\"\n",
        "    imgs: vector containing all the numpy images\n",
        "    grid_size: 2x2 or 5x5 grid containing images\n",
        "    \"\"\"\n",
        "     \n",
        "    fig = plt.figure(figsize = (8, 8))\n",
        "    columns = rows = grid_size\n",
        "    plt.title(\"Training Images\")\n",
        " \n",
        "    for i in range(1, columns*rows +1):\n",
        "        plt.axis(\"off\")\n",
        "        fig.add_subplot(rows, columns, i)\n",
        "        plt.imshow(imgs[i])\n",
        "    plt.show()"
      ]
    },
    {
      "cell_type": "code",
      "execution_count": null,
      "metadata": {
        "colab": {
          "base_uri": "https://localhost:8080/",
          "height": 499
        },
        "id": "Qmc1MSlBg8_Q",
        "outputId": "b5884e44-8d3a-4a0f-d868-8fc190c25764"
      },
      "outputs": [
        {
          "data": {
            "image/png": "[encoded data removed]",
            "text/plain": [
              "<Figure size 576x576 with 10 Axes>"
            ]
          },
          "metadata": {},
          "output_type": "display_data"
        }
      ],
      "source": [
        "# load the numpy vector containing image representations\n",
        "imgs = np.load('kaggle_images_32x32.npz')\n",
        " \n",
        "# pls ignore the poor quality of the images as we are working with 32x32 sized images.\n",
        "plot_images(imgs['arr_0'], 3)"
      ]
    },
    {
      "cell_type": "code",
      "execution_count": null,
      "metadata": {
        "id": "8byQO2NRWPDA"
      },
      "outputs": [],
      "source": [
        "class LP(Dataset):\n",
        " \n",
        "    def __init__(self, npz_imgs):\n",
        "        \"\"\"\n",
        "        Args:\n",
        "            npz_imgs (string): npz file with all the images (created in gan.ipynb)\n",
        "        \"\"\"\n",
        "        self.imgs = npz_imgs\n",
        " \n",
        "    def __len__(self):\n",
        "        return len(self.imgs)\n",
        " \n",
        "    def __getitem__(self, idx):\n",
        "        if torch.is_tensor(idx):\n",
        "            idx = idx.tolist()\n",
        " \n",
        "        image = self.imgs[idx]\n",
        " \n",
        "        return image"
      ]
    },
    {
      "cell_type": "code",
      "execution_count": null,
      "metadata": {
        "id": "xrWBgkE9WRKr"
      },
      "outputs": [],
      "source": [
        "# Preparing dataloader for training\n",
        " \n",
        "transpose_imgs = np.transpose( # imp step to convert image size from (7312, 32,32,3) to (7312, 3,32,32)\n",
        "    np.float32(imgs['arr_0']), # imp step to convert double -&gt; float (by default numpy input uses double as data type)\n",
        "    (0, 3,1,2) # tuple to describe how to rearrange the dimensions\n",
        "    ) \n",
        " \n",
        "dset = LP(transpose_imgs) # passing the npz variable to the constructor class\n",
        "batch_size = 32\n",
        "shuffle = True\n",
        " \n",
        "dataloader = DataLoader(dataset = dset, batch_size = batch_size, shuffle = shuffle)"
      ]
    },
    {
      "cell_type": "code",
      "execution_count": null,
      "metadata": {
        "id": "W8rYKZ4mh30t"
      },
      "outputs": [],
      "source": [
        "class Generator(Module):\n",
        "    def __init__(self):\n",
        " \n",
        "        # calling constructor of parent class\n",
        "        super().__init__()\n",
        " \n",
        "        self.gen = Sequential(\n",
        "          ConvTranspose2d(in_channels = 100, out_channels = 512 , kernel_size = 4, stride = 1, padding = 0, bias = False),\n",
        "          # the output from the above will be b_size ,512, 4,4\n",
        "          BatchNorm2d(num_features = 512), # From an input of size (b_size, C, H, W), pick num_features = C\n",
        "          ReLU(inplace = True),\n",
        " \n",
        "          ConvTranspose2d(in_channels = 512, out_channels = 256 , kernel_size = 4, stride = 2, padding = 1, bias = False),\n",
        "          # the output from the above will be b_size ,256, 8,8\n",
        "          BatchNorm2d(num_features = 256),\n",
        "          ReLU(inplace = True),\n",
        " \n",
        "          ConvTranspose2d(in_channels = 256, out_channels = 128 , kernel_size = 4, stride = 2, padding = 1, bias = False),\n",
        "          # the output from the above will be b_size ,128, 16,16\n",
        "          BatchNorm2d(num_features = 128),\n",
        "          ReLU(inplace = True),\n",
        " \n",
        "          ConvTranspose2d(in_channels = 128, out_channels = 3 , kernel_size = 4, stride = 2, padding = 1, bias = False),\n",
        "          # the output from the above will be b_size ,3, 32,32\n",
        "          Tanh()\n",
        "         \n",
        "        )\n",
        " \n",
        "    def forward(self, input):\n",
        "        return self.gen(input)"
      ]
    },
    {
      "cell_type": "code",
      "execution_count": null,
      "metadata": {
        "id": "kECykWDTWTxY"
      },
      "outputs": [],
      "source": [
        "# Defining the Discriminator class\n",
        " \n",
        "class Discriminator(Module):\n",
        "    def __init__(self):\n",
        " \n",
        "        super().__init__()\n",
        "        self.dis = Sequential(\n",
        " \n",
        "            # input is (3, 32, 32)\n",
        "            Conv2d(in_channels = 3, out_channels = 32, kernel_size = 4, stride = 2, padding = 1, bias=False),\n",
        "            # ouput from above layer is b_size, 32, 16, 16\n",
        "            LeakyReLU(0.2, inplace=True),\n",
        " \n",
        "            Conv2d(in_channels = 32, out_channels = 32*2, kernel_size = 4, stride = 2, padding = 1, bias=False),\n",
        "            # ouput from above layer is b_size, 32*2, 8, 8\n",
        "            BatchNorm2d(32 * 2),\n",
        "            LeakyReLU(0.2, inplace=True),\n",
        " \n",
        "            Conv2d(in_channels = 32*2, out_channels = 32*4, kernel_size = 4, stride = 2, padding = 1, bias=False),\n",
        "            # ouput from above layer is b_size, 32*4, 4, 4\n",
        "            BatchNorm2d(32 * 4),\n",
        "            LeakyReLU(0.2, inplace=True),\n",
        " \n",
        "            Conv2d(in_channels = 32*4, out_channels = 32*8, kernel_size = 4, stride = 2, padding = 1, bias=False),\n",
        "            # ouput from above layer is b_size, 256, 2, 2\n",
        "            # NOTE: spatial size of this layer is 2x2, hence in the final layer, the kernel size must be 2 instead (or smaller than) 4\n",
        "            BatchNorm2d(32 * 8),\n",
        "            LeakyReLU(0.2, inplace=True),\n",
        " \n",
        "            Conv2d(in_channels = 32*8, out_channels = 1, kernel_size = 2, stride = 2, padding = 0, bias=False),\n",
        "            # ouput from above layer is b_size, 1, 1, 1\n",
        "            Sigmoid()\n",
        "        )\n",
        "     \n",
        "    def forward(self, input):\n",
        "        return self.dis(input)"
      ]
    },
    {
      "cell_type": "code",
      "execution_count": null,
      "metadata": {
        "id": "vEHZT3GYWWA6"
      },
      "outputs": [],
      "source": [
        "netG = Generator().to(device)\n",
        "netD = Discriminator().to(device)"
      ]
    },
    {
      "cell_type": "code",
      "execution_count": null,
      "metadata": {
        "id": "bcqhksHNlDaO"
      },
      "outputs": [],
      "source": [
        "def init_weights(m):\n",
        "    if type(m) == ConvTranspose2d:\n",
        "        nn.init.normal_(m.weight, 0.0, 0.02)\n",
        "    elif type(m) == BatchNorm2d:\n",
        "        nn.init.normal_(m.weight, 1.0, 0.02)\n",
        "        nn.init.constant_(m.bias, 0)"
      ]
    },
    {
      "cell_type": "code",
      "execution_count": null,
      "metadata": {
        "colab": {
          "base_uri": "https://localhost:8080/"
        },
        "id": "vfOE0LLBlEzw",
        "outputId": "299f6f8b-a83d-4407-b386-95b2f66c61bf"
      },
      "outputs": [
        {
          "data": {
            "text/plain": [
              "Generator(\n",
              "  (gen): Sequential(\n",
              "    (0): ConvTranspose2d(100, 512, kernel_size=(4, 4), stride=(1, 1), bias=False)\n",
              "    (1): BatchNorm2d(512, eps=1e-05, momentum=0.1, affine=True, track_running_stats=True)\n",
              "    (2): ReLU(inplace=True)\n",
              "    (3): ConvTranspose2d(512, 256, kernel_size=(4, 4), stride=(2, 2), padding=(1, 1), bias=False)\n",
              "    (4): BatchNorm2d(256, eps=1e-05, momentum=0.1, affine=True, track_running_stats=True)\n",
              "    (5): ReLU(inplace=True)\n",
              "    (6): ConvTranspose2d(256, 128, kernel_size=(4, 4), stride=(2, 2), padding=(1, 1), bias=False)\n",
              "    (7): BatchNorm2d(128, eps=1e-05, momentum=0.1, affine=True, track_running_stats=True)\n",
              "    (8): ReLU(inplace=True)\n",
              "    (9): ConvTranspose2d(128, 3, kernel_size=(4, 4), stride=(2, 2), padding=(1, 1), bias=False)\n",
              "    (10): Tanh()\n",
              "  )\n",
              ")"
            ]
          },
          "execution_count": 27,
          "metadata": {},
          "output_type": "execute_result"
        }
      ],
      "source": [
        "# initializing the weights\n",
        "netD.apply(init_weights)\n",
        "netG.apply(init_weights)"
      ]
    },
    {
      "cell_type": "code",
      "execution_count": null,
      "metadata": {
        "id": "Lclu9jaelKHp"
      },
      "outputs": [],
      "source": [
        "# Setting up otimizers for both Generator and Discriminator\n",
        " \n",
        "opt_D = optim.Adam(netD.parameters(), lr = 0.0002, betas= (0.5, 0.999))\n",
        "opt_G = optim.Adam(netG.parameters(), lr = 0.0002, betas= (0.5, 0.999))"
      ]
    },
    {
      "cell_type": "code",
      "execution_count": null,
      "metadata": {
        "id": "KVoojZXnlMby"
      },
      "outputs": [],
      "source": [
        "# Setting up the loss function - BCELoss (to check how far the predicted value is from real value)\n",
        " \n",
        "loss = BCELoss()"
      ]
    },
    {
      "cell_type": "code",
      "execution_count": null,
      "metadata": {
        "colab": {
          "base_uri": "https://localhost:8080/",
          "height": 413
        },
        "id": "Ko60NO6OWb3r",
        "outputId": "0180a8c7-3774-4a4f-b754-70c746fa112f"
      },
      "outputs": [
        {
          "ename": "ValueError",
          "evalue": "ignored",
          "output_type": "error",
          "traceback": [
            "\u001b[0;31m---------------------------------------------------------------------------\u001b[0m",
            "\u001b[0;31mValueError\u001b[0m                                Traceback (most recent call last)",
            "\u001b[0;32m<ipython-input-30-74bc86c20f66>\u001b[0m in \u001b[0;36m<module>\u001b[0;34m\u001b[0m\n\u001b[1;32m     21\u001b[0m         \u001b[0mtarget\u001b[0m \u001b[0;34m=\u001b[0m \u001b[0mtorch\u001b[0m\u001b[0;34m.\u001b[0m\u001b[0mones\u001b[0m\u001b[0;34m(\u001b[0m\u001b[0mlen\u001b[0m\u001b[0;34m(\u001b[0m\u001b[0mb\u001b[0m\u001b[0;34m)\u001b[0m\u001b[0;34m,\u001b[0m \u001b[0mdtype\u001b[0m\u001b[0;34m=\u001b[0m\u001b[0mtorch\u001b[0m\u001b[0;34m.\u001b[0m\u001b[0mfloat\u001b[0m\u001b[0;34m,\u001b[0m \u001b[0mdevice\u001b[0m\u001b[0;34m=\u001b[0m\u001b[0mdevice\u001b[0m\u001b[0;34m)\u001b[0m\u001b[0;34m\u001b[0m\u001b[0;34m\u001b[0m\u001b[0m\n\u001b[1;32m     22\u001b[0m         \u001b[0;31m# calculate loss\u001b[0m\u001b[0;34m\u001b[0m\u001b[0;34m\u001b[0m\u001b[0;34m\u001b[0m\u001b[0m\n\u001b[0;32m---> 23\u001b[0;31m         \u001b[0mloss_real\u001b[0m \u001b[0;34m=\u001b[0m \u001b[0mloss\u001b[0m\u001b[0;34m(\u001b[0m\u001b[0myhat\u001b[0m\u001b[0;34m,\u001b[0m \u001b[0mtarget\u001b[0m\u001b[0;34m)\u001b[0m\u001b[0;34m\u001b[0m\u001b[0;34m\u001b[0m\u001b[0m\n\u001b[0m\u001b[1;32m     24\u001b[0m         \u001b[0;31m# calculate gradients -  or rather accumulation of gradients on loss tensor\u001b[0m\u001b[0;34m\u001b[0m\u001b[0;34m\u001b[0m\u001b[0;34m\u001b[0m\u001b[0m\n\u001b[1;32m     25\u001b[0m         \u001b[0mloss_real\u001b[0m\u001b[0;34m.\u001b[0m\u001b[0mbackward\u001b[0m\u001b[0;34m(\u001b[0m\u001b[0;34m)\u001b[0m\u001b[0;34m\u001b[0m\u001b[0;34m\u001b[0m\u001b[0m\n",
            "\u001b[0;32m/usr/local/lib/python3.8/dist-packages/torch/nn/modules/module.py\u001b[0m in \u001b[0;36m_call_impl\u001b[0;34m(self, *input, **kwargs)\u001b[0m\n\u001b[1;32m   1188\u001b[0m         if not (self._backward_hooks or self._forward_hooks or self._forward_pre_hooks or _global_backward_hooks\n\u001b[1;32m   1189\u001b[0m                 or _global_forward_hooks or _global_forward_pre_hooks):\n\u001b[0;32m-> 1190\u001b[0;31m             \u001b[0;32mreturn\u001b[0m \u001b[0mforward_call\u001b[0m\u001b[0;34m(\u001b[0m\u001b[0;34m*\u001b[0m\u001b[0minput\u001b[0m\u001b[0;34m,\u001b[0m \u001b[0;34m**\u001b[0m\u001b[0mkwargs\u001b[0m\u001b[0;34m)\u001b[0m\u001b[0;34m\u001b[0m\u001b[0;34m\u001b[0m\u001b[0m\n\u001b[0m\u001b[1;32m   1191\u001b[0m         \u001b[0;31m# Do not call functions when jit is used\u001b[0m\u001b[0;34m\u001b[0m\u001b[0;34m\u001b[0m\u001b[0;34m\u001b[0m\u001b[0m\n\u001b[1;32m   1192\u001b[0m         \u001b[0mfull_backward_hooks\u001b[0m\u001b[0;34m,\u001b[0m \u001b[0mnon_full_backward_hooks\u001b[0m \u001b[0;34m=\u001b[0m \u001b[0;34m[\u001b[0m\u001b[0;34m]\u001b[0m\u001b[0;34m,\u001b[0m \u001b[0;34m[\u001b[0m\u001b[0;34m]\u001b[0m\u001b[0;34m\u001b[0m\u001b[0;34m\u001b[0m\u001b[0m\n",
            "\u001b[0;32m/usr/local/lib/python3.8/dist-packages/torch/nn/modules/loss.py\u001b[0m in \u001b[0;36mforward\u001b[0;34m(self, input, target)\u001b[0m\n\u001b[1;32m    617\u001b[0m \u001b[0;34m\u001b[0m\u001b[0m\n\u001b[1;32m    618\u001b[0m     \u001b[0;32mdef\u001b[0m \u001b[0mforward\u001b[0m\u001b[0;34m(\u001b[0m\u001b[0mself\u001b[0m\u001b[0;34m,\u001b[0m \u001b[0minput\u001b[0m\u001b[0;34m:\u001b[0m \u001b[0mTensor\u001b[0m\u001b[0;34m,\u001b[0m \u001b[0mtarget\u001b[0m\u001b[0;34m:\u001b[0m \u001b[0mTensor\u001b[0m\u001b[0;34m)\u001b[0m \u001b[0;34m->\u001b[0m \u001b[0mTensor\u001b[0m\u001b[0;34m:\u001b[0m\u001b[0;34m\u001b[0m\u001b[0;34m\u001b[0m\u001b[0m\n\u001b[0;32m--> 619\u001b[0;31m         \u001b[0;32mreturn\u001b[0m \u001b[0mF\u001b[0m\u001b[0;34m.\u001b[0m\u001b[0mbinary_cross_entropy\u001b[0m\u001b[0;34m(\u001b[0m\u001b[0minput\u001b[0m\u001b[0;34m,\u001b[0m \u001b[0mtarget\u001b[0m\u001b[0;34m,\u001b[0m \u001b[0mweight\u001b[0m\u001b[0;34m=\u001b[0m\u001b[0mself\u001b[0m\u001b[0;34m.\u001b[0m\u001b[0mweight\u001b[0m\u001b[0;34m,\u001b[0m \u001b[0mreduction\u001b[0m\u001b[0;34m=\u001b[0m\u001b[0mself\u001b[0m\u001b[0;34m.\u001b[0m\u001b[0mreduction\u001b[0m\u001b[0;34m)\u001b[0m\u001b[0;34m\u001b[0m\u001b[0;34m\u001b[0m\u001b[0m\n\u001b[0m\u001b[1;32m    620\u001b[0m \u001b[0;34m\u001b[0m\u001b[0m\n\u001b[1;32m    621\u001b[0m \u001b[0;34m\u001b[0m\u001b[0m\n",
            "\u001b[0;32m/usr/local/lib/python3.8/dist-packages/torch/nn/functional.py\u001b[0m in \u001b[0;36mbinary_cross_entropy\u001b[0;34m(input, target, weight, size_average, reduce, reduction)\u001b[0m\n\u001b[1;32m   3084\u001b[0m         \u001b[0mreduction_enum\u001b[0m \u001b[0;34m=\u001b[0m \u001b[0m_Reduction\u001b[0m\u001b[0;34m.\u001b[0m\u001b[0mget_enum\u001b[0m\u001b[0;34m(\u001b[0m\u001b[0mreduction\u001b[0m\u001b[0;34m)\u001b[0m\u001b[0;34m\u001b[0m\u001b[0;34m\u001b[0m\u001b[0m\n\u001b[1;32m   3085\u001b[0m     \u001b[0;32mif\u001b[0m \u001b[0mtarget\u001b[0m\u001b[0;34m.\u001b[0m\u001b[0msize\u001b[0m\u001b[0;34m(\u001b[0m\u001b[0;34m)\u001b[0m \u001b[0;34m!=\u001b[0m \u001b[0minput\u001b[0m\u001b[0;34m.\u001b[0m\u001b[0msize\u001b[0m\u001b[0;34m(\u001b[0m\u001b[0;34m)\u001b[0m\u001b[0;34m:\u001b[0m\u001b[0;34m\u001b[0m\u001b[0;34m\u001b[0m\u001b[0m\n\u001b[0;32m-> 3086\u001b[0;31m         raise ValueError(\n\u001b[0m\u001b[1;32m   3087\u001b[0m             \u001b[0;34m\"Using a target size ({}) that is different to the input size ({}) is deprecated. \"\u001b[0m\u001b[0;34m\u001b[0m\u001b[0;34m\u001b[0m\u001b[0m\n\u001b[1;32m   3088\u001b[0m             \u001b[0;34m\"Please ensure they have the same size.\"\u001b[0m\u001b[0;34m.\u001b[0m\u001b[0mformat\u001b[0m\u001b[0;34m(\u001b[0m\u001b[0mtarget\u001b[0m\u001b[0;34m.\u001b[0m\u001b[0msize\u001b[0m\u001b[0;34m(\u001b[0m\u001b[0;34m)\u001b[0m\u001b[0;34m,\u001b[0m \u001b[0minput\u001b[0m\u001b[0;34m.\u001b[0m\u001b[0msize\u001b[0m\u001b[0;34m(\u001b[0m\u001b[0;34m)\u001b[0m\u001b[0;34m)\u001b[0m\u001b[0;34m\u001b[0m\u001b[0;34m\u001b[0m\u001b[0m\n",
            "\u001b[0;31mValueError\u001b[0m: Using a target size (torch.Size([32])) that is different to the input size (torch.Size([512])) is deprecated. Please ensure they have the same size."
          ]
        }
      ],
      "source": [
        "# TRAINING GANS\n",
        "epochs = 100\n",
        " \n",
        "# going over the entire dataset 10 times\n",
        "for e in range(epochs):\n",
        "     \n",
        "    # pick each batch b of input images: shape of each batch is (32, 3, 32, 32)\n",
        "    for i, b in enumerate(dataloader):\n",
        " \n",
        "        ##########################\n",
        "        ## Update Discriminator ##\n",
        "        ##########################\n",
        " \n",
        "        # Loss on real images\n",
        "         \n",
        "        # clear the gradient\n",
        "        opt_D.zero_grad() # set the gradients to 0 at start of each loop because gradients are accumulated on subsequent backward passes\n",
        "        # compute the D model output\n",
        "        yhat = netD(b.to(device)).view(-1) # view(-1) reshapes a 4-d tensor of shape (2,1,1,1) to 1-d tensor with 2 values only\n",
        "        # specify target labels or true labels\n",
        "        target = torch.ones(len(b), dtype=torch.float, device=device)\n",
        "        # calculate loss\n",
        "        loss_real = loss(yhat, target)\n",
        "        # calculate gradients -  or rather accumulation of gradients on loss tensor\n",
        "        loss_real.backward()\n",
        " \n",
        "        # Loss on fake images\n",
        " \n",
        "        # generate batch of fake images using G\n",
        "        # Step1: creating noise to be fed as input to G\n",
        "        noise = torch.randn(len(b), 100, 1, 1, device = device)\n",
        "        # Step 2: feed noise to G to create a fake img (this will be reused when updating G)\n",
        "        fake_img = netG(noise) \n",
        " \n",
        "        # compute D model output on fake images\n",
        "        yhat = netD(fake_img.detach()).view(-1) # .cuda() is essential because our input i.e. fake_img is on gpu but model isnt (runtimeError thrown); detach is imp: Basically, only track steps on your generator optimizer when training the generator, NOT the discriminator. \n",
        "        # specify target labels\n",
        "        target = torch.zeros(len(b), dtype=torch.float, device=device)\n",
        "        # calculate loss\n",
        "        loss_fake = loss(yhat, target)\n",
        "        # calculate gradients\n",
        "        loss_fake.backward()\n",
        " \n",
        "        # total error on D\n",
        "        loss_disc = loss_real + loss_fake\n",
        " \n",
        "        # Update weights of D\n",
        "        opt_D.step()\n",
        " \n",
        "        ##########################\n",
        "        #### Update Generator ####\n",
        "        ##########################\n",
        " \n",
        "        # clear gradient\n",
        "        opt_G.zero_grad()\n",
        "        # pass fake image through D\n",
        "        yhat = netD(fake_img).view(-1)\n",
        "        # specify target variables - remember G wants D *to think* these are real images so label is 1\n",
        "        target = torch.ones(len(b), dtype=torch.float, device=device)\n",
        "        # calculate loss\n",
        "        loss_gen = loss(yhat, target)\n",
        "        # calculate gradients\n",
        "        loss_gen.backward()\n",
        "        # update weights on G\n",
        "        opt_G.step()\n",
        " \n",
        " \n",
        "        ####################################\n",
        "        #### Plot some Generator images ####\n",
        "        ####################################\n",
        " \n",
        "        # during every epoch, print images at every 10th iteration.\n",
        "        if i% 10 == 0:\n",
        "            # convert the fake images from (b_size, 3, 32, 32) to (b_size, 32, 32, 3) for plotting \n",
        "            img_plot = np.transpose(fake_img.detach().cpu(), (0,2,3,1)) # .detach().cpu() is imp for copying fake_img tensor to host memory first\n",
        "            plot_images(img_plot)\n",
        "            print(\"********************\")\n",
        "            print(\" Epoch %d and iteration %d \" % (e, i))"
      ]
    },
    {
      "cell_type": "code",
      "execution_count": null,
      "metadata": {
        "colab": {
          "background_save": true,
          "referenced_widgets": [
            "e06fa3d9718d49098e9a3a061fe8f609",
            "49ecb05e33974950a185ee16bea40627",
            "779e6f51577e471598f8b72bc50703c7",
            "e529e2f7c178416286c8d02e89d894c5",
            "aeeaa72ea05d4b0da96e17343c325768",
            "e61e8143cea64b0b8512b0fa16e67ed9",
            "33fc7d040ec84a2386285ce19355cae4",
            "0507882b339c44b39e2720a70a453a21",
            "b60456aa06d4414591a3a6c020ef56c5",
            "c0d97524e11343d987a084a3812ab880",
            "86f31e6decd543ce8ce335cc55369776",
            "ec5ec421436d4be2877fab37cff8eba2",
            "86da96fd0e0c4f67b67b54ddf6c9b4a1",
            "95088d4d2ea94e3d9aba6102af36f72e",
            "37d38998a1b14ca2bbb3391039afdfd5",
            "0048a3f11a5c4170b04e591a556e0a56",
            "a6396d9dc94b44338454fa343840b590",
            "19dc8b657df34513a9dbd0c4bb548dd8",
            "c95ae322e9d34be0a66178f3a1acbf54",
            "4a0fbd6d52a2402190ee82290063db2c",
            "790903698fd547c4962b88149931f364",
            "af60257a3a89476385c8c73ac98cc61f",
            "fb12902e9ee04ab5ac35ab882635a9a2",
            "f742c340a7364fef9ab980fd9d6db231",
            "01ae075cb3d94a138610160862b52835",
            "79b4665a31764807abc26f67f93e82f5",
            "cd66f7679a3d41bcb9753d7dd49fa39b",
            "04795b8c3e5c4675afe2c79651f845a4",
            "1da871bff50c44158203a7954d8e57f7",
            "0d67ac27f6644a888ff5065daf25137d",
            "2388801415144816aac0d5308843079f",
            "6d69fb47da2646548a67077f3c178a38",
            "410bcc551d6e47bcb66408837b1cd929",
            "f61d11e9624644bfa924db9687768ae4",
            "8bb54399da0f406699c089f19b41398e",
            "ea7539bf93244becb76bdcc89a020853",
            "d627d2533f37471ab1dd0a34a93a6331",
            "dea790d77c3148ba8fbb758b58625f32",
            "47048f6b9d9b475f988797ed75954038",
            "8288daa35c954eee9191cbc46e3a9223",
            "4d6b58ee5bed4ffeb0146c5f56d20297",
            "893ed434cae44944b14aaeb74edd1270",
            "e7f9432a40c341ac807326ac1548f025",
            "97fd561c3ee842fd86171aff599fa78b",
            "18937ca20fe24470932970d7c3c88306",
            "65d5896ee24e458c890eab539ce02705",
            "31631a3c45b549fab95ec84ebf7b7077",
            "bc68ac6298d74093a2dd087a46b8b24f",
            "88437796eab545c6b549064e98865b4c",
            "2a69afbcdafd46548c223604acd16baa",
            "4ce2044ef5174092aca95f7d53c6390a",
            "e6aebb11a0334d9a93f935884bdade25",
            "f8ac6a3170bc4ba3bfc6a0dac5839fdf",
            "5589343ddbd54d13a5142aa348be629f",
            "e340f9e7434e4ea7a76574e1b43d14d9",
            "8b652dceaa6c47adb18b5790248d97a5",
            "299cf687c5184304b78242f17f25dae4",
            "d623a3a0cb8f4de58b1737f321c35edc",
            "eab31510928f482f88b13ab88ee911e3",
            "f28aff92887544e9b12b3d68a7326892",
            "87327c8e25c64ad49b8be37955399414",
            "2dfce82c0e794e0d898c5cf2b7beb4ff",
            "c15e590fd4524bdcb836fb55f58a491a",
            "a7fc80ff878141b184ffad76450f38e1",
            "cbda7fcfaded451c815081bf421e24a1",
            "e9026641198245c1bbd5b7c440d6f27a",
            "5b1660dd77804f0f8cf93f113b9e13a3",
            "3999489ad5a2435b91de935f53c1b4ff",
            "0cd3b3a6fa044e32a8dfe9245db1c098",
            "d9c822364a7640688bf4d53a4086dbcf"
          ]
        },
        "id": "Se3iaimtouCH",
        "outputId": "e4dfac68-fcd0-4ef9-c3ca-f4f6ab82648f"
      },
      "outputs": [
        {
          "data": {
            "application/vnd.jupyter.widget-view+json": {
              "model_id": "e06fa3d9718d49098e9a3a061fe8f609",
              "version_major": 2,
              "version_minor": 0
            },
            "text/plain": [
              "  0%|          | 0/2 [00:00<?, ?it/s]"
            ]
          },
          "metadata": {},
          "output_type": "display_data"
        },
        {
          "name": "stdout",
          "output_type": "stream",
          "text": [
            "Epoch [1/70], loss_g: 3.1505, loss_d: 0.1714, real_score: 0.9615, fake_score: 0.1178\n",
            "Saving generated-images-0051.png\n"
          ]
        },
        {
          "data": {
            "application/vnd.jupyter.widget-view+json": {
              "model_id": "49ecb05e33974950a185ee16bea40627",
              "version_major": 2,
              "version_minor": 0
            },
            "text/plain": [
              "  0%|          | 0/2 [00:00<?, ?it/s]"
            ]
          },
          "metadata": {},
          "output_type": "display_data"
        },
        {
          "name": "stdout",
          "output_type": "stream",
          "text": [
            "Epoch [2/70], loss_g: 3.5589, loss_d: 0.1227, real_score: 0.9483, fake_score: 0.0636\n",
            "Saving generated-images-0052.png\n"
          ]
        },
        {
          "data": {
            "application/vnd.jupyter.widget-view+json": {
              "model_id": "779e6f51577e471598f8b72bc50703c7",
              "version_major": 2,
              "version_minor": 0
            },
            "text/plain": [
              "  0%|          | 0/2 [00:00<?, ?it/s]"
            ]
          },
          "metadata": {},
          "output_type": "display_data"
        },
        {
          "name": "stdout",
          "output_type": "stream",
          "text": [
            "Epoch [3/70], loss_g: 3.6988, loss_d: 0.0806, real_score: 0.9662, fake_score: 0.0438\n",
            "Saving generated-images-0053.png\n"
          ]
        },
        {
          "data": {
            "application/vnd.jupyter.widget-view+json": {
              "model_id": "e529e2f7c178416286c8d02e89d894c5",
              "version_major": 2,
              "version_minor": 0
            },
            "text/plain": [
              "  0%|          | 0/2 [00:00<?, ?it/s]"
            ]
          },
          "metadata": {},
          "output_type": "display_data"
        },
        {
          "name": "stdout",
          "output_type": "stream",
          "text": [
            "Epoch [4/70], loss_g: 3.7222, loss_d: 0.1160, real_score: 0.9271, fake_score: 0.0364\n",
            "Saving generated-images-0054.png\n"
          ]
        },
        {
          "data": {
            "application/vnd.jupyter.widget-view+json": {
              "model_id": "aeeaa72ea05d4b0da96e17343c325768",
              "version_major": 2,
              "version_minor": 0
            },
            "text/plain": [
              "  0%|          | 0/2 [00:00<?, ?it/s]"
            ]
          },
          "metadata": {},
          "output_type": "display_data"
        },
        {
          "name": "stdout",
          "output_type": "stream",
          "text": [
            "Epoch [5/70], loss_g: 3.4847, loss_d: 0.0631, real_score: 0.9824, fake_score: 0.0438\n",
            "Saving generated-images-0055.png\n"
          ]
        },
        {
          "data": {
            "application/vnd.jupyter.widget-view+json": {
              "model_id": "e61e8143cea64b0b8512b0fa16e67ed9",
              "version_major": 2,
              "version_minor": 0
            },
            "text/plain": [
              "  0%|          | 0/2 [00:00<?, ?it/s]"
            ]
          },
          "metadata": {},
          "output_type": "display_data"
        },
        {
          "name": "stdout",
          "output_type": "stream",
          "text": [
            "Epoch [6/70], loss_g: 3.5795, loss_d: 0.0667, real_score: 0.9758, fake_score: 0.0406\n",
            "Saving generated-images-0056.png\n"
          ]
        },
        {
          "data": {
            "application/vnd.jupyter.widget-view+json": {
              "model_id": "33fc7d040ec84a2386285ce19355cae4",
              "version_major": 2,
              "version_minor": 0
            },
            "text/plain": [
              "  0%|          | 0/2 [00:00<?, ?it/s]"
            ]
          },
          "metadata": {},
          "output_type": "display_data"
        },
        {
          "name": "stdout",
          "output_type": "stream",
          "text": [
            "Epoch [7/70], loss_g: 3.4896, loss_d: 0.0753, real_score: 0.9728, fake_score: 0.0454\n",
            "Saving generated-images-0057.png\n"
          ]
        },
        {
          "data": {
            "application/vnd.jupyter.widget-view+json": {
              "model_id": "0507882b339c44b39e2720a70a453a21",
              "version_major": 2,
              "version_minor": 0
            },
            "text/plain": [
              "  0%|          | 0/2 [00:00<?, ?it/s]"
            ]
          },
          "metadata": {},
          "output_type": "display_data"
        },
        {
          "name": "stdout",
          "output_type": "stream",
          "text": [
            "Epoch [8/70], loss_g: 3.7769, loss_d: 0.0907, real_score: 0.9447, fake_score: 0.0313\n",
            "Saving generated-images-0058.png\n"
          ]
        },
        {
          "data": {
            "application/vnd.jupyter.widget-view+json": {
              "model_id": "b60456aa06d4414591a3a6c020ef56c5",
              "version_major": 2,
              "version_minor": 0
            },
            "text/plain": [
              "  0%|          | 0/2 [00:00<?, ?it/s]"
            ]
          },
          "metadata": {},
          "output_type": "display_data"
        },
        {
          "name": "stdout",
          "output_type": "stream",
          "text": [
            "Epoch [9/70], loss_g: 3.6506, loss_d: 0.0737, real_score: 0.9615, fake_score: 0.0331\n",
            "Saving generated-images-0059.png\n"
          ]
        },
        {
          "data": {
            "application/vnd.jupyter.widget-view+json": {
              "model_id": "c0d97524e11343d987a084a3812ab880",
              "version_major": 2,
              "version_minor": 0
            },
            "text/plain": [
              "  0%|          | 0/2 [00:00<?, ?it/s]"
            ]
          },
          "metadata": {},
          "output_type": "display_data"
        },
        {
          "name": "stdout",
          "output_type": "stream",
          "text": [
            "Epoch [10/70], loss_g: 3.9231, loss_d: 0.0884, real_score: 0.9528, fake_score: 0.0374\n",
            "Saving generated-images-0060.png\n"
          ]
        },
        {
          "data": {
            "application/vnd.jupyter.widget-view+json": {
              "model_id": "86f31e6decd543ce8ce335cc55369776",
              "version_major": 2,
              "version_minor": 0
            },
            "text/plain": [
              "  0%|          | 0/2 [00:00<?, ?it/s]"
            ]
          },
          "metadata": {},
          "output_type": "display_data"
        },
        {
          "name": "stdout",
          "output_type": "stream",
          "text": [
            "Epoch [11/70], loss_g: 3.9225, loss_d: 0.0626, real_score: 0.9720, fake_score: 0.0332\n",
            "Saving generated-images-0061.png\n"
          ]
        },
        {
          "data": {
            "application/vnd.jupyter.widget-view+json": {
              "model_id": "ec5ec421436d4be2877fab37cff8eba2",
              "version_major": 2,
              "version_minor": 0
            },
            "text/plain": [
              "  0%|          | 0/2 [00:00<?, ?it/s]"
            ]
          },
          "metadata": {},
          "output_type": "display_data"
        },
        {
          "name": "stdout",
          "output_type": "stream",
          "text": [
            "Epoch [12/70], loss_g: 3.7965, loss_d: 0.0867, real_score: 0.9496, fake_score: 0.0335\n",
            "Saving generated-images-0062.png\n"
          ]
        },
        {
          "data": {
            "application/vnd.jupyter.widget-view+json": {
              "model_id": "86da96fd0e0c4f67b67b54ddf6c9b4a1",
              "version_major": 2,
              "version_minor": 0
            },
            "text/plain": [
              "  0%|          | 0/2 [00:00<?, ?it/s]"
            ]
          },
          "metadata": {},
          "output_type": "display_data"
        },
        {
          "name": "stdout",
          "output_type": "stream",
          "text": [
            "Epoch [13/70], loss_g: 3.9524, loss_d: 0.0811, real_score: 0.9588, fake_score: 0.0373\n",
            "Saving generated-images-0063.png\n"
          ]
        },
        {
          "data": {
            "application/vnd.jupyter.widget-view+json": {
              "model_id": "95088d4d2ea94e3d9aba6102af36f72e",
              "version_major": 2,
              "version_minor": 0
            },
            "text/plain": [
              "  0%|          | 0/2 [00:00<?, ?it/s]"
            ]
          },
          "metadata": {},
          "output_type": "display_data"
        },
        {
          "name": "stdout",
          "output_type": "stream",
          "text": [
            "Epoch [14/70], loss_g: 3.7592, loss_d: 0.0777, real_score: 0.9567, fake_score: 0.0318\n",
            "Saving generated-images-0064.png\n"
          ]
        },
        {
          "data": {
            "application/vnd.jupyter.widget-view+json": {
              "model_id": "37d38998a1b14ca2bbb3391039afdfd5",
              "version_major": 2,
              "version_minor": 0
            },
            "text/plain": [
              "  0%|          | 0/2 [00:00<?, ?it/s]"
            ]
          },
          "metadata": {},
          "output_type": "display_data"
        },
        {
          "name": "stdout",
          "output_type": "stream",
          "text": [
            "Epoch [15/70], loss_g: 4.0631, loss_d: 0.0593, real_score: 0.9629, fake_score: 0.0206\n",
            "Saving generated-images-0065.png\n"
          ]
        },
        {
          "data": {
            "application/vnd.jupyter.widget-view+json": {
              "model_id": "0048a3f11a5c4170b04e591a556e0a56",
              "version_major": 2,
              "version_minor": 0
            },
            "text/plain": [
              "  0%|          | 0/2 [00:00<?, ?it/s]"
            ]
          },
          "metadata": {},
          "output_type": "display_data"
        },
        {
          "name": "stdout",
          "output_type": "stream",
          "text": [
            "Epoch [16/70], loss_g: 3.5536, loss_d: 0.0649, real_score: 0.9674, fake_score: 0.0304\n",
            "Saving generated-images-0066.png\n"
          ]
        },
        {
          "data": {
            "application/vnd.jupyter.widget-view+json": {
              "model_id": "a6396d9dc94b44338454fa343840b590",
              "version_major": 2,
              "version_minor": 0
            },
            "text/plain": [
              "  0%|          | 0/2 [00:00<?, ?it/s]"
            ]
          },
          "metadata": {},
          "output_type": "display_data"
        },
        {
          "name": "stdout",
          "output_type": "stream",
          "text": [
            "Epoch [17/70], loss_g: 3.9473, loss_d: 0.0529, real_score: 0.9757, fake_score: 0.0276\n",
            "Saving generated-images-0067.png\n"
          ]
        },
        {
          "data": {
            "application/vnd.jupyter.widget-view+json": {
              "model_id": "19dc8b657df34513a9dbd0c4bb548dd8",
              "version_major": 2,
              "version_minor": 0
            },
            "text/plain": [
              "  0%|          | 0/2 [00:00<?, ?it/s]"
            ]
          },
          "metadata": {},
          "output_type": "display_data"
        },
        {
          "name": "stdout",
          "output_type": "stream",
          "text": [
            "Epoch [18/70], loss_g: 3.9257, loss_d: 0.0703, real_score: 0.9587, fake_score: 0.0270\n",
            "Saving generated-images-0068.png\n"
          ]
        },
        {
          "data": {
            "application/vnd.jupyter.widget-view+json": {
              "model_id": "c95ae322e9d34be0a66178f3a1acbf54",
              "version_major": 2,
              "version_minor": 0
            },
            "text/plain": [
              "  0%|          | 0/2 [00:00<?, ?it/s]"
            ]
          },
          "metadata": {},
          "output_type": "display_data"
        },
        {
          "name": "stdout",
          "output_type": "stream",
          "text": [
            "Epoch [19/70], loss_g: 3.8669, loss_d: 0.0740, real_score: 0.9710, fake_score: 0.0429\n",
            "Saving generated-images-0069.png\n"
          ]
        },
        {
          "data": {
            "application/vnd.jupyter.widget-view+json": {
              "model_id": "4a0fbd6d52a2402190ee82290063db2c",
              "version_major": 2,
              "version_minor": 0
            },
            "text/plain": [
              "  0%|          | 0/2 [00:00<?, ?it/s]"
            ]
          },
          "metadata": {},
          "output_type": "display_data"
        },
        {
          "name": "stdout",
          "output_type": "stream",
          "text": [
            "Epoch [20/70], loss_g: 4.1744, loss_d: 0.0597, real_score: 0.9614, fake_score: 0.0194\n",
            "Saving generated-images-0070.png\n"
          ]
        },
        {
          "data": {
            "application/vnd.jupyter.widget-view+json": {
              "model_id": "790903698fd547c4962b88149931f364",
              "version_major": 2,
              "version_minor": 0
            },
            "text/plain": [
              "  0%|          | 0/2 [00:00<?, ?it/s]"
            ]
          },
          "metadata": {},
          "output_type": "display_data"
        },
        {
          "name": "stdout",
          "output_type": "stream",
          "text": [
            "Epoch [21/70], loss_g: 3.6414, loss_d: 0.0633, real_score: 0.9596, fake_score: 0.0210\n",
            "Saving generated-images-0071.png\n"
          ]
        },
        {
          "data": {
            "application/vnd.jupyter.widget-view+json": {
              "model_id": "af60257a3a89476385c8c73ac98cc61f",
              "version_major": 2,
              "version_minor": 0
            },
            "text/plain": [
              "  0%|          | 0/2 [00:00<?, ?it/s]"
            ]
          },
          "metadata": {},
          "output_type": "display_data"
        },
        {
          "name": "stdout",
          "output_type": "stream",
          "text": [
            "Epoch [22/70], loss_g: 3.8123, loss_d: 0.0619, real_score: 0.9693, fake_score: 0.0296\n",
            "Saving generated-images-0072.png\n"
          ]
        },
        {
          "data": {
            "application/vnd.jupyter.widget-view+json": {
              "model_id": "fb12902e9ee04ab5ac35ab882635a9a2",
              "version_major": 2,
              "version_minor": 0
            },
            "text/plain": [
              "  0%|          | 0/2 [00:00<?, ?it/s]"
            ]
          },
          "metadata": {},
          "output_type": "display_data"
        },
        {
          "name": "stdout",
          "output_type": "stream",
          "text": [
            "Epoch [23/70], loss_g: 3.9704, loss_d: 0.0513, real_score: 0.9711, fake_score: 0.0212\n",
            "Saving generated-images-0073.png\n"
          ]
        },
        {
          "data": {
            "application/vnd.jupyter.widget-view+json": {
              "model_id": "f742c340a7364fef9ab980fd9d6db231",
              "version_major": 2,
              "version_minor": 0
            },
            "text/plain": [
              "  0%|          | 0/2 [00:00<?, ?it/s]"
            ]
          },
          "metadata": {},
          "output_type": "display_data"
        },
        {
          "name": "stdout",
          "output_type": "stream",
          "text": [
            "Epoch [24/70], loss_g: 4.0915, loss_d: 0.1138, real_score: 0.9226, fake_score: 0.0251\n",
            "Saving generated-images-0074.png\n"
          ]
        },
        {
          "data": {
            "application/vnd.jupyter.widget-view+json": {
              "model_id": "01ae075cb3d94a138610160862b52835",
              "version_major": 2,
              "version_minor": 0
            },
            "text/plain": [
              "  0%|          | 0/2 [00:00<?, ?it/s]"
            ]
          },
          "metadata": {},
          "output_type": "display_data"
        },
        {
          "name": "stdout",
          "output_type": "stream",
          "text": [
            "Epoch [25/70], loss_g: 3.7313, loss_d: 0.0713, real_score: 0.9501, fake_score: 0.0187\n",
            "Saving generated-images-0075.png\n"
          ]
        },
        {
          "data": {
            "application/vnd.jupyter.widget-view+json": {
              "model_id": "79b4665a31764807abc26f67f93e82f5",
              "version_major": 2,
              "version_minor": 0
            },
            "text/plain": [
              "  0%|          | 0/2 [00:00<?, ?it/s]"
            ]
          },
          "metadata": {},
          "output_type": "display_data"
        },
        {
          "name": "stdout",
          "output_type": "stream",
          "text": [
            "Epoch [26/70], loss_g: 4.2766, loss_d: 0.0762, real_score: 0.9501, fake_score: 0.0236\n",
            "Saving generated-images-0076.png\n"
          ]
        },
        {
          "data": {
            "application/vnd.jupyter.widget-view+json": {
              "model_id": "cd66f7679a3d41bcb9753d7dd49fa39b",
              "version_major": 2,
              "version_minor": 0
            },
            "text/plain": [
              "  0%|          | 0/2 [00:00<?, ?it/s]"
            ]
          },
          "metadata": {},
          "output_type": "display_data"
        },
        {
          "name": "stdout",
          "output_type": "stream",
          "text": [
            "Epoch [27/70], loss_g: 4.7188, loss_d: 0.0569, real_score: 0.9804, fake_score: 0.0359\n",
            "Saving generated-images-0077.png\n"
          ]
        },
        {
          "data": {
            "application/vnd.jupyter.widget-view+json": {
              "model_id": "04795b8c3e5c4675afe2c79651f845a4",
              "version_major": 2,
              "version_minor": 0
            },
            "text/plain": [
              "  0%|          | 0/2 [00:00<?, ?it/s]"
            ]
          },
          "metadata": {},
          "output_type": "display_data"
        },
        {
          "name": "stdout",
          "output_type": "stream",
          "text": [
            "Epoch [28/70], loss_g: 3.6535, loss_d: 0.1234, real_score: 0.9005, fake_score: 0.0159\n",
            "Saving generated-images-0078.png\n"
          ]
        },
        {
          "data": {
            "application/vnd.jupyter.widget-view+json": {
              "model_id": "1da871bff50c44158203a7954d8e57f7",
              "version_major": 2,
              "version_minor": 0
            },
            "text/plain": [
              "  0%|          | 0/2 [00:00<?, ?it/s]"
            ]
          },
          "metadata": {},
          "output_type": "display_data"
        },
        {
          "name": "stdout",
          "output_type": "stream",
          "text": [
            "Epoch [29/70], loss_g: 4.1202, loss_d: 0.0735, real_score: 0.9742, fake_score: 0.0458\n",
            "Saving generated-images-0079.png\n"
          ]
        },
        {
          "data": {
            "application/vnd.jupyter.widget-view+json": {
              "model_id": "0d67ac27f6644a888ff5065daf25137d",
              "version_major": 2,
              "version_minor": 0
            },
            "text/plain": [
              "  0%|          | 0/2 [00:00<?, ?it/s]"
            ]
          },
          "metadata": {},
          "output_type": "display_data"
        },
        {
          "name": "stdout",
          "output_type": "stream",
          "text": [
            "Epoch [30/70], loss_g: 4.4401, loss_d: 0.0651, real_score: 0.9605, fake_score: 0.0238\n",
            "Saving generated-images-0080.png\n"
          ]
        },
        {
          "data": {
            "application/vnd.jupyter.widget-view+json": {
              "model_id": "2388801415144816aac0d5308843079f",
              "version_major": 2,
              "version_minor": 0
            },
            "text/plain": [
              "  0%|          | 0/2 [00:00<?, ?it/s]"
            ]
          },
          "metadata": {},
          "output_type": "display_data"
        },
        {
          "name": "stdout",
          "output_type": "stream",
          "text": [
            "Epoch [31/70], loss_g: 4.3407, loss_d: 0.0912, real_score: 0.9304, fake_score: 0.0157\n",
            "Saving generated-images-0081.png\n"
          ]
        },
        {
          "data": {
            "application/vnd.jupyter.widget-view+json": {
              "model_id": "6d69fb47da2646548a67077f3c178a38",
              "version_major": 2,
              "version_minor": 0
            },
            "text/plain": [
              "  0%|          | 0/2 [00:00<?, ?it/s]"
            ]
          },
          "metadata": {},
          "output_type": "display_data"
        },
        {
          "name": "stdout",
          "output_type": "stream",
          "text": [
            "Epoch [32/70], loss_g: 4.2368, loss_d: 0.0596, real_score: 0.9689, fake_score: 0.0270\n",
            "Saving generated-images-0082.png\n"
          ]
        },
        {
          "data": {
            "application/vnd.jupyter.widget-view+json": {
              "model_id": "410bcc551d6e47bcb66408837b1cd929",
              "version_major": 2,
              "version_minor": 0
            },
            "text/plain": [
              "  0%|          | 0/2 [00:00<?, ?it/s]"
            ]
          },
          "metadata": {},
          "output_type": "display_data"
        },
        {
          "name": "stdout",
          "output_type": "stream",
          "text": [
            "Epoch [33/70], loss_g: 4.6829, loss_d: 0.0414, real_score: 0.9784, fake_score: 0.0192\n",
            "Saving generated-images-0083.png\n"
          ]
        },
        {
          "data": {
            "application/vnd.jupyter.widget-view+json": {
              "model_id": "f61d11e9624644bfa924db9687768ae4",
              "version_major": 2,
              "version_minor": 0
            },
            "text/plain": [
              "  0%|          | 0/2 [00:00<?, ?it/s]"
            ]
          },
          "metadata": {},
          "output_type": "display_data"
        },
        {
          "name": "stdout",
          "output_type": "stream",
          "text": [
            "Epoch [34/70], loss_g: 4.2569, loss_d: 0.0343, real_score: 0.9780, fake_score: 0.0117\n",
            "Saving generated-images-0084.png\n"
          ]
        },
        {
          "data": {
            "application/vnd.jupyter.widget-view+json": {
              "model_id": "8bb54399da0f406699c089f19b41398e",
              "version_major": 2,
              "version_minor": 0
            },
            "text/plain": [
              "  0%|          | 0/2 [00:00<?, ?it/s]"
            ]
          },
          "metadata": {},
          "output_type": "display_data"
        },
        {
          "name": "stdout",
          "output_type": "stream",
          "text": [
            "Epoch [35/70], loss_g: 3.9751, loss_d: 0.0641, real_score: 0.9784, fake_score: 0.0409\n",
            "Saving generated-images-0085.png\n"
          ]
        },
        {
          "data": {
            "application/vnd.jupyter.widget-view+json": {
              "model_id": "ea7539bf93244becb76bdcc89a020853",
              "version_major": 2,
              "version_minor": 0
            },
            "text/plain": [
              "  0%|          | 0/2 [00:00<?, ?it/s]"
            ]
          },
          "metadata": {},
          "output_type": "display_data"
        },
        {
          "name": "stdout",
          "output_type": "stream",
          "text": [
            "Epoch [36/70], loss_g: 4.7309, loss_d: 0.0388, real_score: 0.9750, fake_score: 0.0132\n",
            "Saving generated-images-0086.png\n"
          ]
        },
        {
          "data": {
            "application/vnd.jupyter.widget-view+json": {
              "model_id": "d627d2533f37471ab1dd0a34a93a6331",
              "version_major": 2,
              "version_minor": 0
            },
            "text/plain": [
              "  0%|          | 0/2 [00:00<?, ?it/s]"
            ]
          },
          "metadata": {},
          "output_type": "display_data"
        },
        {
          "name": "stdout",
          "output_type": "stream",
          "text": [
            "Epoch [37/70], loss_g: 4.5347, loss_d: 0.0437, real_score: 0.9807, fake_score: 0.0236\n",
            "Saving generated-images-0087.png\n"
          ]
        },
        {
          "data": {
            "application/vnd.jupyter.widget-view+json": {
              "model_id": "dea790d77c3148ba8fbb758b58625f32",
              "version_major": 2,
              "version_minor": 0
            },
            "text/plain": [
              "  0%|          | 0/2 [00:00<?, ?it/s]"
            ]
          },
          "metadata": {},
          "output_type": "display_data"
        },
        {
          "name": "stdout",
          "output_type": "stream",
          "text": [
            "Epoch [38/70], loss_g: 4.7764, loss_d: 0.0516, real_score: 0.9727, fake_score: 0.0233\n",
            "Saving generated-images-0088.png\n"
          ]
        },
        {
          "data": {
            "application/vnd.jupyter.widget-view+json": {
              "model_id": "47048f6b9d9b475f988797ed75954038",
              "version_major": 2,
              "version_minor": 0
            },
            "text/plain": [
              "  0%|          | 0/2 [00:00<?, ?it/s]"
            ]
          },
          "metadata": {},
          "output_type": "display_data"
        },
        {
          "name": "stdout",
          "output_type": "stream",
          "text": [
            "Epoch [39/70], loss_g: 4.3215, loss_d: 0.0749, real_score: 0.9440, fake_score: 0.0160\n",
            "Saving generated-images-0089.png\n"
          ]
        },
        {
          "data": {
            "application/vnd.jupyter.widget-view+json": {
              "model_id": "8288daa35c954eee9191cbc46e3a9223",
              "version_major": 2,
              "version_minor": 0
            },
            "text/plain": [
              "  0%|          | 0/2 [00:00<?, ?it/s]"
            ]
          },
          "metadata": {},
          "output_type": "display_data"
        },
        {
          "name": "stdout",
          "output_type": "stream",
          "text": [
            "Epoch [40/70], loss_g: 4.2909, loss_d: 0.0499, real_score: 0.9721, fake_score: 0.0211\n",
            "Saving generated-images-0090.png\n"
          ]
        },
        {
          "data": {
            "application/vnd.jupyter.widget-view+json": {
              "model_id": "4d6b58ee5bed4ffeb0146c5f56d20297",
              "version_major": 2,
              "version_minor": 0
            },
            "text/plain": [
              "  0%|          | 0/2 [00:00<?, ?it/s]"
            ]
          },
          "metadata": {},
          "output_type": "display_data"
        },
        {
          "name": "stdout",
          "output_type": "stream",
          "text": [
            "Epoch [41/70], loss_g: 3.5892, loss_d: 0.0488, real_score: 0.9701, fake_score: 0.0178\n",
            "Saving generated-images-0091.png\n"
          ]
        },
        {
          "data": {
            "application/vnd.jupyter.widget-view+json": {
              "model_id": "893ed434cae44944b14aaeb74edd1270",
              "version_major": 2,
              "version_minor": 0
            },
            "text/plain": [
              "  0%|          | 0/2 [00:00<?, ?it/s]"
            ]
          },
          "metadata": {},
          "output_type": "display_data"
        },
        {
          "name": "stdout",
          "output_type": "stream",
          "text": [
            "Epoch [42/70], loss_g: 4.4162, loss_d: 0.0289, real_score: 0.9840, fake_score: 0.0126\n",
            "Saving generated-images-0092.png\n"
          ]
        },
        {
          "data": {
            "application/vnd.jupyter.widget-view+json": {
              "model_id": "e7f9432a40c341ac807326ac1548f025",
              "version_major": 2,
              "version_minor": 0
            },
            "text/plain": [
              "  0%|          | 0/2 [00:00<?, ?it/s]"
            ]
          },
          "metadata": {},
          "output_type": "display_data"
        },
        {
          "name": "stdout",
          "output_type": "stream",
          "text": [
            "Epoch [43/70], loss_g: 4.4092, loss_d: 0.0520, real_score: 0.9644, fake_score: 0.0152\n",
            "Saving generated-images-0093.png\n"
          ]
        },
        {
          "data": {
            "application/vnd.jupyter.widget-view+json": {
              "model_id": "97fd561c3ee842fd86171aff599fa78b",
              "version_major": 2,
              "version_minor": 0
            },
            "text/plain": [
              "  0%|          | 0/2 [00:00<?, ?it/s]"
            ]
          },
          "metadata": {},
          "output_type": "display_data"
        },
        {
          "name": "stdout",
          "output_type": "stream",
          "text": [
            "Epoch [44/70], loss_g: 4.6619, loss_d: 0.0393, real_score: 0.9797, fake_score: 0.0184\n",
            "Saving generated-images-0094.png\n"
          ]
        },
        {
          "data": {
            "application/vnd.jupyter.widget-view+json": {
              "model_id": "18937ca20fe24470932970d7c3c88306",
              "version_major": 2,
              "version_minor": 0
            },
            "text/plain": [
              "  0%|          | 0/2 [00:00<?, ?it/s]"
            ]
          },
          "metadata": {},
          "output_type": "display_data"
        },
        {
          "name": "stdout",
          "output_type": "stream",
          "text": [
            "Epoch [45/70], loss_g: 4.5788, loss_d: 0.0432, real_score: 0.9765, fake_score: 0.0189\n",
            "Saving generated-images-0095.png\n"
          ]
        },
        {
          "data": {
            "application/vnd.jupyter.widget-view+json": {
              "model_id": "65d5896ee24e458c890eab539ce02705",
              "version_major": 2,
              "version_minor": 0
            },
            "text/plain": [
              "  0%|          | 0/2 [00:00<?, ?it/s]"
            ]
          },
          "metadata": {},
          "output_type": "display_data"
        },
        {
          "name": "stdout",
          "output_type": "stream",
          "text": [
            "Epoch [46/70], loss_g: 4.4425, loss_d: 0.0368, real_score: 0.9795, fake_score: 0.0158\n",
            "Saving generated-images-0096.png\n"
          ]
        },
        {
          "data": {
            "application/vnd.jupyter.widget-view+json": {
              "model_id": "31631a3c45b549fab95ec84ebf7b7077",
              "version_major": 2,
              "version_minor": 0
            },
            "text/plain": [
              "  0%|          | 0/2 [00:00<?, ?it/s]"
            ]
          },
          "metadata": {},
          "output_type": "display_data"
        },
        {
          "name": "stdout",
          "output_type": "stream",
          "text": [
            "Epoch [47/70], loss_g: 4.6933, loss_d: 0.0221, real_score: 0.9864, fake_score: 0.0083\n",
            "Saving generated-images-0097.png\n"
          ]
        },
        {
          "data": {
            "application/vnd.jupyter.widget-view+json": {
              "model_id": "bc68ac6298d74093a2dd087a46b8b24f",
              "version_major": 2,
              "version_minor": 0
            },
            "text/plain": [
              "  0%|          | 0/2 [00:00<?, ?it/s]"
            ]
          },
          "metadata": {},
          "output_type": "display_data"
        },
        {
          "name": "stdout",
          "output_type": "stream",
          "text": [
            "Epoch [48/70], loss_g: 3.9743, loss_d: 0.0555, real_score: 0.9658, fake_score: 0.0198\n",
            "Saving generated-images-0098.png\n"
          ]
        },
        {
          "data": {
            "application/vnd.jupyter.widget-view+json": {
              "model_id": "88437796eab545c6b549064e98865b4c",
              "version_major": 2,
              "version_minor": 0
            },
            "text/plain": [
              "  0%|          | 0/2 [00:00<?, ?it/s]"
            ]
          },
          "metadata": {},
          "output_type": "display_data"
        },
        {
          "name": "stdout",
          "output_type": "stream",
          "text": [
            "Epoch [49/70], loss_g: 4.8202, loss_d: 0.0407, real_score: 0.9834, fake_score: 0.0234\n",
            "Saving generated-images-0099.png\n"
          ]
        },
        {
          "data": {
            "application/vnd.jupyter.widget-view+json": {
              "model_id": "2a69afbcdafd46548c223604acd16baa",
              "version_major": 2,
              "version_minor": 0
            },
            "text/plain": [
              "  0%|          | 0/2 [00:00<?, ?it/s]"
            ]
          },
          "metadata": {},
          "output_type": "display_data"
        },
        {
          "name": "stdout",
          "output_type": "stream",
          "text": [
            "Epoch [50/70], loss_g: 4.6612, loss_d: 0.0277, real_score: 0.9874, fake_score: 0.0148\n",
            "Saving generated-images-0100.png\n"
          ]
        },
        {
          "data": {
            "application/vnd.jupyter.widget-view+json": {
              "model_id": "4ce2044ef5174092aca95f7d53c6390a",
              "version_major": 2,
              "version_minor": 0
            },
            "text/plain": [
              "  0%|          | 0/2 [00:00<?, ?it/s]"
            ]
          },
          "metadata": {},
          "output_type": "display_data"
        },
        {
          "name": "stdout",
          "output_type": "stream",
          "text": [
            "Epoch [51/70], loss_g: 5.1167, loss_d: 0.0297, real_score: 0.9828, fake_score: 0.0121\n",
            "Saving generated-images-0101.png\n"
          ]
        },
        {
          "data": {
            "application/vnd.jupyter.widget-view+json": {
              "model_id": "e6aebb11a0334d9a93f935884bdade25",
              "version_major": 2,
              "version_minor": 0
            },
            "text/plain": [
              "  0%|          | 0/2 [00:00<?, ?it/s]"
            ]
          },
          "metadata": {},
          "output_type": "display_data"
        },
        {
          "name": "stdout",
          "output_type": "stream",
          "text": [
            "Epoch [52/70], loss_g: 4.3179, loss_d: 0.0659, real_score: 0.9518, fake_score: 0.0154\n",
            "Saving generated-images-0102.png\n"
          ]
        },
        {
          "data": {
            "application/vnd.jupyter.widget-view+json": {
              "model_id": "f8ac6a3170bc4ba3bfc6a0dac5839fdf",
              "version_major": 2,
              "version_minor": 0
            },
            "text/plain": [
              "  0%|          | 0/2 [00:00<?, ?it/s]"
            ]
          },
          "metadata": {},
          "output_type": "display_data"
        },
        {
          "name": "stdout",
          "output_type": "stream",
          "text": [
            "Epoch [53/70], loss_g: 4.1958, loss_d: 0.0413, real_score: 0.9795, fake_score: 0.0201\n",
            "Saving generated-images-0103.png\n"
          ]
        },
        {
          "data": {
            "application/vnd.jupyter.widget-view+json": {
              "model_id": "5589343ddbd54d13a5142aa348be629f",
              "version_major": 2,
              "version_minor": 0
            },
            "text/plain": [
              "  0%|          | 0/2 [00:00<?, ?it/s]"
            ]
          },
          "metadata": {},
          "output_type": "display_data"
        },
        {
          "name": "stdout",
          "output_type": "stream",
          "text": [
            "Epoch [54/70], loss_g: 4.8629, loss_d: 0.0457, real_score: 0.9715, fake_score: 0.0162\n",
            "Saving generated-images-0104.png\n"
          ]
        },
        {
          "data": {
            "application/vnd.jupyter.widget-view+json": {
              "model_id": "e340f9e7434e4ea7a76574e1b43d14d9",
              "version_major": 2,
              "version_minor": 0
            },
            "text/plain": [
              "  0%|          | 0/2 [00:00<?, ?it/s]"
            ]
          },
          "metadata": {},
          "output_type": "display_data"
        },
        {
          "name": "stdout",
          "output_type": "stream",
          "text": [
            "Epoch [55/70], loss_g: 4.9771, loss_d: 0.0485, real_score: 0.9703, fake_score: 0.0177\n",
            "Saving generated-images-0105.png\n"
          ]
        },
        {
          "data": {
            "application/vnd.jupyter.widget-view+json": {
              "model_id": "8b652dceaa6c47adb18b5790248d97a5",
              "version_major": 2,
              "version_minor": 0
            },
            "text/plain": [
              "  0%|          | 0/2 [00:00<?, ?it/s]"
            ]
          },
          "metadata": {},
          "output_type": "display_data"
        },
        {
          "name": "stdout",
          "output_type": "stream",
          "text": [
            "Epoch [56/70], loss_g: 4.6695, loss_d: 0.0285, real_score: 0.9898, fake_score: 0.0180\n",
            "Saving generated-images-0106.png\n"
          ]
        },
        {
          "data": {
            "application/vnd.jupyter.widget-view+json": {
              "model_id": "299cf687c5184304b78242f17f25dae4",
              "version_major": 2,
              "version_minor": 0
            },
            "text/plain": [
              "  0%|          | 0/2 [00:00<?, ?it/s]"
            ]
          },
          "metadata": {},
          "output_type": "display_data"
        },
        {
          "name": "stdout",
          "output_type": "stream",
          "text": [
            "Epoch [57/70], loss_g: 5.1810, loss_d: 0.0306, real_score: 0.9854, fake_score: 0.0156\n",
            "Saving generated-images-0107.png\n"
          ]
        },
        {
          "data": {
            "application/vnd.jupyter.widget-view+json": {
              "model_id": "d623a3a0cb8f4de58b1737f321c35edc",
              "version_major": 2,
              "version_minor": 0
            },
            "text/plain": [
              "  0%|          | 0/2 [00:00<?, ?it/s]"
            ]
          },
          "metadata": {},
          "output_type": "display_data"
        },
        {
          "name": "stdout",
          "output_type": "stream",
          "text": [
            "Epoch [58/70], loss_g: 4.1404, loss_d: 0.0391, real_score: 0.9737, fake_score: 0.0120\n",
            "Saving generated-images-0108.png\n"
          ]
        },
        {
          "data": {
            "application/vnd.jupyter.widget-view+json": {
              "model_id": "eab31510928f482f88b13ab88ee911e3",
              "version_major": 2,
              "version_minor": 0
            },
            "text/plain": [
              "  0%|          | 0/2 [00:00<?, ?it/s]"
            ]
          },
          "metadata": {},
          "output_type": "display_data"
        },
        {
          "name": "stdout",
          "output_type": "stream",
          "text": [
            "Epoch [59/70], loss_g: 4.5545, loss_d: 0.0365, real_score: 0.9785, fake_score: 0.0144\n",
            "Saving generated-images-0109.png\n"
          ]
        },
        {
          "data": {
            "application/vnd.jupyter.widget-view+json": {
              "model_id": "f28aff92887544e9b12b3d68a7326892",
              "version_major": 2,
              "version_minor": 0
            },
            "text/plain": [
              "  0%|          | 0/2 [00:00<?, ?it/s]"
            ]
          },
          "metadata": {},
          "output_type": "display_data"
        },
        {
          "name": "stdout",
          "output_type": "stream",
          "text": [
            "Epoch [60/70], loss_g: 4.7654, loss_d: 0.0304, real_score: 0.9810, fake_score: 0.0110\n",
            "Saving generated-images-0110.png\n"
          ]
        },
        {
          "data": {
            "application/vnd.jupyter.widget-view+json": {
              "model_id": "87327c8e25c64ad49b8be37955399414",
              "version_major": 2,
              "version_minor": 0
            },
            "text/plain": [
              "  0%|          | 0/2 [00:00<?, ?it/s]"
            ]
          },
          "metadata": {},
          "output_type": "display_data"
        },
        {
          "name": "stdout",
          "output_type": "stream",
          "text": [
            "Epoch [61/70], loss_g: 4.2014, loss_d: 0.0270, real_score: 0.9843, fake_score: 0.0110\n",
            "Saving generated-images-0111.png\n"
          ]
        },
        {
          "data": {
            "application/vnd.jupyter.widget-view+json": {
              "model_id": "2dfce82c0e794e0d898c5cf2b7beb4ff",
              "version_major": 2,
              "version_minor": 0
            },
            "text/plain": [
              "  0%|          | 0/2 [00:00<?, ?it/s]"
            ]
          },
          "metadata": {},
          "output_type": "display_data"
        },
        {
          "name": "stdout",
          "output_type": "stream",
          "text": [
            "Epoch [62/70], loss_g: 4.4217, loss_d: 0.0284, real_score: 0.9864, fake_score: 0.0144\n",
            "Saving generated-images-0112.png\n"
          ]
        },
        {
          "data": {
            "application/vnd.jupyter.widget-view+json": {
              "model_id": "c15e590fd4524bdcb836fb55f58a491a",
              "version_major": 2,
              "version_minor": 0
            },
            "text/plain": [
              "  0%|          | 0/2 [00:00<?, ?it/s]"
            ]
          },
          "metadata": {},
          "output_type": "display_data"
        },
        {
          "name": "stdout",
          "output_type": "stream",
          "text": [
            "Epoch [63/70], loss_g: 4.8972, loss_d: 0.0295, real_score: 0.9878, fake_score: 0.0170\n",
            "Saving generated-images-0113.png\n"
          ]
        },
        {
          "data": {
            "application/vnd.jupyter.widget-view+json": {
              "model_id": "a7fc80ff878141b184ffad76450f38e1",
              "version_major": 2,
              "version_minor": 0
            },
            "text/plain": [
              "  0%|          | 0/2 [00:00<?, ?it/s]"
            ]
          },
          "metadata": {},
          "output_type": "display_data"
        },
        {
          "name": "stdout",
          "output_type": "stream",
          "text": [
            "Epoch [64/70], loss_g: 4.1840, loss_d: 0.0636, real_score: 0.9583, fake_score: 0.0200\n",
            "Saving generated-images-0114.png\n"
          ]
        },
        {
          "data": {
            "application/vnd.jupyter.widget-view+json": {
              "model_id": "cbda7fcfaded451c815081bf421e24a1",
              "version_major": 2,
              "version_minor": 0
            },
            "text/plain": [
              "  0%|          | 0/2 [00:00<?, ?it/s]"
            ]
          },
          "metadata": {},
          "output_type": "display_data"
        },
        {
          "name": "stdout",
          "output_type": "stream",
          "text": [
            "Epoch [65/70], loss_g: 4.6295, loss_d: 0.0407, real_score: 0.9784, fake_score: 0.0185\n",
            "Saving generated-images-0115.png\n"
          ]
        },
        {
          "data": {
            "application/vnd.jupyter.widget-view+json": {
              "model_id": "e9026641198245c1bbd5b7c440d6f27a",
              "version_major": 2,
              "version_minor": 0
            },
            "text/plain": [
              "  0%|          | 0/2 [00:00<?, ?it/s]"
            ]
          },
          "metadata": {},
          "output_type": "display_data"
        },
        {
          "name": "stdout",
          "output_type": "stream",
          "text": [
            "Epoch [66/70], loss_g: 5.5586, loss_d: 0.0346, real_score: 0.9854, fake_score: 0.0194\n",
            "Saving generated-images-0116.png\n"
          ]
        },
        {
          "data": {
            "application/vnd.jupyter.widget-view+json": {
              "model_id": "5b1660dd77804f0f8cf93f113b9e13a3",
              "version_major": 2,
              "version_minor": 0
            },
            "text/plain": [
              "  0%|          | 0/2 [00:00<?, ?it/s]"
            ]
          },
          "metadata": {},
          "output_type": "display_data"
        },
        {
          "name": "stdout",
          "output_type": "stream",
          "text": [
            "Epoch [67/70], loss_g: 4.3785, loss_d: 0.0600, real_score: 0.9487, fake_score: 0.0062\n",
            "Saving generated-images-0117.png\n"
          ]
        },
        {
          "data": {
            "application/vnd.jupyter.widget-view+json": {
              "model_id": "3999489ad5a2435b91de935f53c1b4ff",
              "version_major": 2,
              "version_minor": 0
            },
            "text/plain": [
              "  0%|          | 0/2 [00:00<?, ?it/s]"
            ]
          },
          "metadata": {},
          "output_type": "display_data"
        },
        {
          "name": "stdout",
          "output_type": "stream",
          "text": [
            "Epoch [68/70], loss_g: 4.4849, loss_d: 0.0514, real_score: 0.9629, fake_score: 0.0130\n",
            "Saving generated-images-0118.png\n"
          ]
        },
        {
          "data": {
            "application/vnd.jupyter.widget-view+json": {
              "model_id": "0cd3b3a6fa044e32a8dfe9245db1c098",
              "version_major": 2,
              "version_minor": 0
            },
            "text/plain": [
              "  0%|          | 0/2 [00:00<?, ?it/s]"
            ]
          },
          "metadata": {},
          "output_type": "display_data"
        },
        {
          "name": "stdout",
          "output_type": "stream",
          "text": [
            "Epoch [69/70], loss_g: 4.4205, loss_d: 0.0792, real_score: 0.9405, fake_score: 0.0161\n",
            "Saving generated-images-0119.png\n"
          ]
        },
        {
          "data": {
            "application/vnd.jupyter.widget-view+json": {
              "model_id": "d9c822364a7640688bf4d53a4086dbcf",
              "version_major": 2,
              "version_minor": 0
            },
            "text/plain": [
              "  0%|          | 0/2 [00:00<?, ?it/s]"
            ]
          },
          "metadata": {},
          "output_type": "display_data"
        },
        {
          "name": "stdout",
          "output_type": "stream",
          "text": [
            "Epoch [70/70], loss_g: 4.9404, loss_d: 0.0353, real_score: 0.9874, fake_score: 0.0220\n",
            "Saving generated-images-0120.png\n"
          ]
        }
      ],
      "source": [
        "#.cuda"
      ]
    }
  ],
  "metadata": {
    "accelerator": "GPU",
    "colab": {
      "provenance": []
    },
    "gpuClass": "standard",
    "kernelspec": {
      "display_name": "Python 3",
      "name": "python3"
    },
    "language_info": {
      "name": "python"
    }
  },
  "nbformat": 4,
  "nbformat_minor": 0
}